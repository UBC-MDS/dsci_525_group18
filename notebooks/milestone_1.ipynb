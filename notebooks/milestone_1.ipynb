{
 "cells": [
  {
   "cell_type": "markdown",
   "id": "476c14d0-13ce-4ffd-902b-5733e417ae58",
   "metadata": {},
   "source": [
    "# Milestone 1"
   ]
  },
  {
   "cell_type": "markdown",
   "id": "464dddac-5e8e-4d63-ae4b-6cc0b2056af0",
   "metadata": {},
   "source": [
    "The objective of this project is to analyze the modelled daily rainfall dataset over NSW, Australia, spanning 1889- 2014. The dataset can be found [here](https://figshare.com/articles/dataset/Daily_rainfall_over_NSW_Australia/14096681). "
   ]
  },
  {
   "cell_type": "markdown",
   "id": "0fe9ad03-c8dc-4925-a753-ed01e3e39f3a",
   "metadata": {},
   "source": [
    "### Imports"
   ]
  },
  {
   "cell_type": "code",
   "execution_count": 1,
   "id": "c329e6ce-d5c0-4240-a84f-e7cdcdd8aee4",
   "metadata": {},
   "outputs": [],
   "source": [
    "import re\n",
    "import os\n",
    "import glob\n",
    "import zipfile\n",
    "import requests\n",
    "from urllib.request import urlretrieve\n",
    "import json\n",
    "import pandas as pd\n",
    "import dask\n",
    "import dask.dataframe as dd\n",
    "import seaborn as sns\n",
    "import altair as alt"
   ]
  },
  {
   "cell_type": "code",
   "execution_count": 2,
   "id": "b807aaae-3a54-4d6b-988c-7cd2aba49cfb",
   "metadata": {},
   "outputs": [
    {
     "data": {
      "text/plain": [
       "RendererRegistry.enable('mimetype')"
      ]
     },
     "execution_count": 2,
     "metadata": {},
     "output_type": "execute_result"
    }
   ],
   "source": [
    "alt.renderers.enable('mimetype')"
   ]
  },
  {
   "cell_type": "markdown",
   "id": "6c9795bd-287c-4610-86bf-6ccf6beb080e",
   "metadata": {},
   "source": [
    "### Variables"
   ]
  },
  {
   "cell_type": "code",
   "execution_count": 3,
   "id": "9de76a0c-d4fb-4d9d-baf1-98f6f375f5b5",
   "metadata": {},
   "outputs": [],
   "source": [
    "# Figshare article metadata\n",
    "article_id = 14096681\n",
    "url = f\"https://api.figshare.com/v2/articles/{article_id}\"\n",
    "headers = {\"Content-Type\": \"application/json\"}\n",
    "output_directory = \"figsharerainfall\""
   ]
  },
  {
   "cell_type": "markdown",
   "id": "8ed7d96a-dd62-4121-994c-d7c47e2081bc",
   "metadata": {},
   "source": [
    "### 3. Send API request to Figshare to download rainfall data "
   ]
  },
  {
   "cell_type": "markdown",
   "id": "c2632624-ae75-440e-9e9a-c8491b25526d",
   "metadata": {},
   "source": [
    "We will download the data from [figshare](https://figshare.com/articles/dataset/Daily_rainfall_over_NSW_Australia/14096681) using [figshare API](https://docs.figshare.com/)."
   ]
  },
  {
   "cell_type": "code",
   "execution_count": 4,
   "id": "dab20488-2e21-4b72-a9eb-4da8c6a9d856",
   "metadata": {},
   "outputs": [
    {
     "data": {
      "text/plain": [
       "{'id': 26766812,\n",
       " 'name': 'data.zip',\n",
       " 'size': 814041183,\n",
       " 'is_link_only': False,\n",
       " 'download_url': 'https://ndownloader.figshare.com/files/26766812',\n",
       " 'supplied_md5': 'b517383f76e77bd03755a63a8ff83ee9',\n",
       " 'computed_md5': 'b517383f76e77bd03755a63a8ff83ee9'}"
      ]
     },
     "execution_count": 4,
     "metadata": {},
     "output_type": "execute_result"
    }
   ],
   "source": [
    "response = requests.request(\"GET\", url, headers=headers)\n",
    "data = json.loads(response.text)  # articles data\n",
    "files = data[\"files\"]             # list of files\n",
    "files[3] # target file (data.zip)"
   ]
  },
  {
   "cell_type": "markdown",
   "id": "407aed34-d8ed-4b7c-8bf0-76190caba443",
   "metadata": {},
   "source": [
    "### Collect data.zip folder from the list of `files` "
   ]
  },
  {
   "cell_type": "code",
   "execution_count": 5,
   "id": "de236e70-3c03-4729-a446-056fb07403b2",
   "metadata": {},
   "outputs": [
    {
     "name": "stdout",
     "output_type": "stream",
     "text": [
      "CPU times: total: 17.1 s\n",
      "Wall time: 3min 18s\n"
     ]
    }
   ],
   "source": [
    "%%time\n",
    "files_to_dl = [\"data.zip\"]\n",
    "for file in files:\n",
    "    if file[\"name\"] in files_to_dl:\n",
    "        os.makedirs(output_directory, exist_ok=True)\n",
    "        # Download data.zip\n",
    "        urlretrieve(file[\"download_url\"], os.path.join(output_directory, file[\"name\"]))"
   ]
  },
  {
   "cell_type": "markdown",
   "id": "c2a3aa1f-a126-4125-be7c-0927be5c84c3",
   "metadata": {},
   "source": [
    "### Unzip files from `data.zip` folder"
   ]
  },
  {
   "cell_type": "code",
   "execution_count": 6,
   "id": "c69b6c12-a861-43d1-a829-91891350b69a",
   "metadata": {},
   "outputs": [
    {
     "name": "stdout",
     "output_type": "stream",
     "text": [
      "CPU times: total: 1min 9s\n",
      "Wall time: 1min 15s\n"
     ]
    }
   ],
   "source": [
    "%%time\n",
    "with zipfile.ZipFile(os.path.join(output_directory, \"data.zip\"), 'r') as f:\n",
    "    f.extractall(os.path.join(output_directory, \"data\"))"
   ]
  },
  {
   "cell_type": "markdown",
   "id": "42b2d610-4235-441d-9ff5-3e907843ce52",
   "metadata": {},
   "source": [
    "### 4. Combining csv's in `data` folder"
   ]
  },
  {
   "cell_type": "code",
   "execution_count": 9,
   "id": "fab47c10-7597-4806-8b2f-7fa5238804e7",
   "metadata": {},
   "outputs": [
    {
     "name": "stdout",
     "output_type": "stream",
     "text": [
      "CPU times: total: 10min 25s\n",
      "Wall time: 11min 12s\n"
     ]
    }
   ],
   "source": [
    "%%time\n",
    "## merging files\n",
    "files = glob.glob(os.path.join(output_directory, \"data\", \"*.csv\"))\n",
    "# Exclude observed_daily_rainfall from our analysis\n",
    "files = [file for file in files if file != os.path.join(output_directory, \"data\", \"observed_daily_rainfall_SYD.csv\")]\n",
    "df = pd.concat((pd.read_csv(file, index_col=0) \n",
    "                .assign(model=re.findall(r'[^\\/(\\\\)]+(?=\\_daily_rainfall_NSW.csv)', file)[0])\n",
    "                for file in files)\n",
    "              )\n",
    "df.to_csv(os.path.join(output_directory, \"combined_data.csv\"))"
   ]
  },
  {
   "cell_type": "markdown",
   "id": "bd4c2029-0b20-4ec8-ac8b-71164567dc8e",
   "metadata": {},
   "source": [
    "| Team Member       | Operating System | RAM  | Processor | Is SSD | Time taken |\n",
    "|-------------------|------------------|------|-----------|--------|------------|\n",
    "| Karanpreet Kaur   | windows           | 8 GB    | Processor 11th Gen Intel(R) Core(TM) i5     |       yes    |    11 min 12s  |            |\n",
    "| Melisa Maidana    | mac              | 8 GB | M1        | yes    |            |\n",
    "| Nagraj Rao        |                  |      |           |        |            |\n",
    "| Ting Zhe (TZ) Yan | mac              | 8 GB | M1        | yes    |            |"
   ]
  },
  {
   "cell_type": "code",
   "execution_count": 10,
   "id": "b610430a-2c84-4718-b203-e550990c2e15",
   "metadata": {},
   "outputs": [
    {
     "name": "stdout",
     "output_type": "stream",
     "text": [
      "5.7G\tfigsharerainfall/combined_data.csv\n"
     ]
    }
   ],
   "source": [
    "%%sh\n",
    "du -sh figsharerainfall/combined_data.csv"
   ]
  },
  {
   "cell_type": "code",
   "execution_count": 11,
   "id": "6feaed75-8f93-4573-8ab3-3b7685e405d9",
   "metadata": {},
   "outputs": [
    {
     "name": "stdout",
     "output_type": "stream",
     "text": [
      "(62467843, 6)\n"
     ]
    }
   ],
   "source": [
    "print(df.shape)"
   ]
  },
  {
   "cell_type": "code",
   "execution_count": 12,
   "id": "9ddc7638-1030-4140-832a-4147293ce722",
   "metadata": {},
   "outputs": [
    {
     "data": {
      "text/html": [
       "<div>\n",
       "<style scoped>\n",
       "    .dataframe tbody tr th:only-of-type {\n",
       "        vertical-align: middle;\n",
       "    }\n",
       "\n",
       "    .dataframe tbody tr th {\n",
       "        vertical-align: top;\n",
       "    }\n",
       "\n",
       "    .dataframe thead th {\n",
       "        text-align: right;\n",
       "    }\n",
       "</style>\n",
       "<table border=\"1\" class=\"dataframe\">\n",
       "  <thead>\n",
       "    <tr style=\"text-align: right;\">\n",
       "      <th></th>\n",
       "      <th>lat_min</th>\n",
       "      <th>lat_max</th>\n",
       "      <th>lon_min</th>\n",
       "      <th>lon_max</th>\n",
       "      <th>rain (mm/day)</th>\n",
       "      <th>model</th>\n",
       "    </tr>\n",
       "    <tr>\n",
       "      <th>time</th>\n",
       "      <th></th>\n",
       "      <th></th>\n",
       "      <th></th>\n",
       "      <th></th>\n",
       "      <th></th>\n",
       "      <th></th>\n",
       "    </tr>\n",
       "  </thead>\n",
       "  <tbody>\n",
       "    <tr>\n",
       "      <th>1889-01-01 12:00:00</th>\n",
       "      <td>-36.25</td>\n",
       "      <td>-35.0</td>\n",
       "      <td>140.625</td>\n",
       "      <td>142.5</td>\n",
       "      <td>3.293256e-13</td>\n",
       "      <td>ACCESS-CM2</td>\n",
       "    </tr>\n",
       "    <tr>\n",
       "      <th>1889-01-02 12:00:00</th>\n",
       "      <td>-36.25</td>\n",
       "      <td>-35.0</td>\n",
       "      <td>140.625</td>\n",
       "      <td>142.5</td>\n",
       "      <td>0.000000e+00</td>\n",
       "      <td>ACCESS-CM2</td>\n",
       "    </tr>\n",
       "    <tr>\n",
       "      <th>1889-01-03 12:00:00</th>\n",
       "      <td>-36.25</td>\n",
       "      <td>-35.0</td>\n",
       "      <td>140.625</td>\n",
       "      <td>142.5</td>\n",
       "      <td>0.000000e+00</td>\n",
       "      <td>ACCESS-CM2</td>\n",
       "    </tr>\n",
       "    <tr>\n",
       "      <th>1889-01-04 12:00:00</th>\n",
       "      <td>-36.25</td>\n",
       "      <td>-35.0</td>\n",
       "      <td>140.625</td>\n",
       "      <td>142.5</td>\n",
       "      <td>0.000000e+00</td>\n",
       "      <td>ACCESS-CM2</td>\n",
       "    </tr>\n",
       "    <tr>\n",
       "      <th>1889-01-05 12:00:00</th>\n",
       "      <td>-36.25</td>\n",
       "      <td>-35.0</td>\n",
       "      <td>140.625</td>\n",
       "      <td>142.5</td>\n",
       "      <td>1.047658e-02</td>\n",
       "      <td>ACCESS-CM2</td>\n",
       "    </tr>\n",
       "  </tbody>\n",
       "</table>\n",
       "</div>"
      ],
      "text/plain": [
       "                     lat_min  lat_max  lon_min  lon_max  rain (mm/day)  \\\n",
       "time                                                                     \n",
       "1889-01-01 12:00:00   -36.25    -35.0  140.625    142.5   3.293256e-13   \n",
       "1889-01-02 12:00:00   -36.25    -35.0  140.625    142.5   0.000000e+00   \n",
       "1889-01-03 12:00:00   -36.25    -35.0  140.625    142.5   0.000000e+00   \n",
       "1889-01-04 12:00:00   -36.25    -35.0  140.625    142.5   0.000000e+00   \n",
       "1889-01-05 12:00:00   -36.25    -35.0  140.625    142.5   1.047658e-02   \n",
       "\n",
       "                          model  \n",
       "time                             \n",
       "1889-01-01 12:00:00  ACCESS-CM2  \n",
       "1889-01-02 12:00:00  ACCESS-CM2  \n",
       "1889-01-03 12:00:00  ACCESS-CM2  \n",
       "1889-01-04 12:00:00  ACCESS-CM2  \n",
       "1889-01-05 12:00:00  ACCESS-CM2  "
      ]
     },
     "execution_count": 12,
     "metadata": {},
     "output_type": "execute_result"
    }
   ],
   "source": [
    "df.head()"
   ]
  },
  {
   "cell_type": "markdown",
   "id": "fe7f51cd-752e-4e4c-bd2f-2cff5edd15ea",
   "metadata": {
    "tags": []
   },
   "source": [
    "### 5. Load the combined CSV to memory and perform a simple EDA"
   ]
  },
  {
   "cell_type": "markdown",
   "id": "9d5440ac-8009-4019-b86d-acb06050dbb9",
   "metadata": {},
   "source": [
    "#### Combined Approach #1 & Approach # 2\n",
    "_Loading only required columns and also change dtype of column `rain (mm/day)` while reading csv to reduce memory usage_"
   ]
  },
  {
   "cell_type": "code",
   "execution_count": 13,
   "id": "ae266de8-6b9e-4499-92c9-7cc000af1aee",
   "metadata": {},
   "outputs": [
    {
     "name": "stdout",
     "output_type": "stream",
     "text": [
      "CPU times: total: 1min 11s\n",
      "Wall time: 1min 22s\n"
     ]
    }
   ],
   "source": [
    "%%time\n",
    "use_cols = ['rain (mm/day)', 'time']\n",
    "df = pd.read_csv(os.path.join(output_directory, \"combined_data.csv\"), usecols=use_cols, index_col=False, \n",
    "                 dtype={'rain (mm/day)':'float32'})"
   ]
  },
  {
   "cell_type": "code",
   "execution_count": 14,
   "id": "e9419f97-85be-4b2d-9241-7869c67bc1d4",
   "metadata": {},
   "outputs": [
    {
     "name": "stdout",
     "output_type": "stream",
     "text": [
      "Memory usage with float32: 749.61 MB\n"
     ]
    }
   ],
   "source": [
    "# Memory usage\n",
    "print(f\"Memory usage with float32: {df.memory_usage().sum() / 1e6:.2f} MB\")"
   ]
  },
  {
   "cell_type": "code",
   "execution_count": 15,
   "id": "b6a68a3b-13a2-4161-a5b4-50219520d0e0",
   "metadata": {},
   "outputs": [
    {
     "name": "stdout",
     "output_type": "stream",
     "text": [
      "CPU times: total: 55.3 s\n",
      "Wall time: 1min 1s\n"
     ]
    }
   ],
   "source": [
    "%%time\n",
    "df['month'] = pd.to_datetime(df['time']).dt.month\n",
    "df = df.groupby(['month'], as_index=False).agg({'rain (mm/day)':'mean'})"
   ]
  },
  {
   "cell_type": "code",
   "execution_count": 16,
   "id": "62880390-769a-4a33-a989-077a5fc1925b",
   "metadata": {},
   "outputs": [
    {
     "name": "stdout",
     "output_type": "stream",
     "text": [
      "CPU times: total: 156 ms\n",
      "Wall time: 303 ms\n"
     ]
    },
    {
     "data": {
      "application/vnd.vegalite.v4+json": {
       "$schema": "https://vega.github.io/schema/vega-lite/v4.17.0.json",
       "config": {
        "view": {
         "continuousHeight": 300,
         "continuousWidth": 400
        }
       },
       "data": {
        "name": "data-39a3546d8e5cb52971346fcf11a8c56a"
       },
       "datasets": {
        "data-39a3546d8e5cb52971346fcf11a8c56a": [
         {
          "month": 1,
          "rain (mm/day)": 2.4518375396728516
         },
         {
          "month": 2,
          "rain (mm/day)": 2.4922573566436768
         },
         {
          "month": 3,
          "rain (mm/day)": 2.114701509475708
         },
         {
          "month": 4,
          "rain (mm/day)": 1.7193609476089478
         },
         {
          "month": 5,
          "rain (mm/day)": 1.6686034202575684
         },
         {
          "month": 6,
          "rain (mm/day)": 1.7746074199676514
         },
         {
          "month": 7,
          "rain (mm/day)": 1.5749233961105347
         },
         {
          "month": 8,
          "rain (mm/day)": 1.5033541917800903
         },
         {
          "month": 9,
          "rain (mm/day)": 1.4639570713043213
         },
         {
          "month": 10,
          "rain (mm/day)": 1.6277469396591187
         },
         {
          "month": 11,
          "rain (mm/day)": 2.0968151092529297
         },
         {
          "month": 12,
          "rain (mm/day)": 2.363759756088257
         }
        ]
       },
       "encoding": {
        "color": {
         "field": "rain (mm/day)",
         "title": "Rainfall (mm)",
         "type": "quantitative"
        },
        "x": {
         "field": "month",
         "title": "Month",
         "type": "ordinal"
        },
        "y": {
         "field": "rain (mm/day)",
         "title": "Average rainfall (mm)",
         "type": "quantitative"
        }
       },
       "height": 400,
       "mark": "bar",
       "title": "Average rainfall by month over the years 1889-2014",
       "width": 500
      },
      "image/png": "[encoded data removed]",
      "text/plain": [
       "<VegaLite 4 object>\n",
       "\n",
       "If you see this message, it means the renderer has not been properly enabled\n",
       "for the frontend that you are using. For more information, see\n",
       "https://altair-viz.github.io/user_guide/troubleshooting.html\n"
      ]
     },
     "execution_count": 16,
     "metadata": {},
     "output_type": "execute_result"
    }
   ],
   "source": [
    "%%time\n",
    "(alt.Chart(df, title='Average rainfall by month over the years 1889-2014')\n",
    "    .encode(x=alt.X('month:O', title='Month'), \n",
    "            y=alt.Y('rain (mm/day)', title='Average rainfall (mm)'), \n",
    "            color=alt.Color('rain (mm/day)', title='Rainfall (mm)')).mark_bar()).properties(width=500, height=400)"
   ]
  },
  {
   "cell_type": "markdown",
   "id": "a5853c45-1e89-4983-aab8-85f7c3f5a5ae",
   "metadata": {},
   "source": [
    "| Team Member       | Operating System | RAM  | Processor | Is SSD | Time taken |\n",
    "|-------------------|------------------|------|-----------|--------|------------|\n",
    "| Karanpreet Kaur   | windows           | 8 GB    | Processor 11th Gen Intel(R) Core(TM) i5     |       yes    |   2 mins   |            |\n",
    "| Melisa Maidana    | mac              | 8 GB | M1        | yes    |            |\n",
    "| Nagraj Rao        |                  |      |           |        |            |\n",
    "| Ting Zhe (TZ) Yan | mac              | 8 GB | M1        | yes    |            |"
   ]
  },
  {
   "cell_type": "markdown",
   "id": "e05674ca-3556-4833-b84f-3e3822326222",
   "metadata": {},
   "source": [
    "#### Approach #2"
   ]
  },
  {
   "cell_type": "markdown",
   "id": "24c306f8-7966-4c78-a0e8-04884224a3d7",
   "metadata": {},
   "source": [
    "Next, we will use [Dask](https://dask.org/) to load our data and do some simple aggregation."
   ]
  },
  {
   "cell_type": "code",
   "execution_count": 17,
   "id": "032bec84-9e65-46c5-b8db-2126080c8c0b",
   "metadata": {},
   "outputs": [
    {
     "name": "stdout",
     "output_type": "stream",
     "text": [
      "CPU times: total: 141 ms\n",
      "Wall time: 271 ms\n"
     ]
    }
   ],
   "source": [
    "%%time\n",
    "# Read csv as Dask dataframe\n",
    "ddf = dd.read_csv('figsharerainfall/combined_data.csv', usecols=use_cols, parse_dates=[\"time\"])"
   ]
  },
  {
   "cell_type": "code",
   "execution_count": 18,
   "id": "b01139c5-4f16-4056-b08c-b972048b9a0d",
   "metadata": {},
   "outputs": [
    {
     "name": "stdout",
     "output_type": "stream",
     "text": [
      "CPU times: total: 2min 23s\n",
      "Wall time: 1min 18s\n"
     ]
    }
   ],
   "source": [
    "%%time\n",
    "ddf['month'] = ddf['time'].dt.month\n",
    "ddf = ddf.groupby(['month']).agg({'rain (mm/day)':'mean'}).compute()\n",
    "ddf = ddf.reset_index()"
   ]
  },
  {
   "cell_type": "code",
   "execution_count": 19,
   "id": "2df2a11d-223d-4135-853c-4ed739035d47",
   "metadata": {},
   "outputs": [
    {
     "name": "stdout",
     "output_type": "stream",
     "text": [
      "CPU times: total: 31.2 ms\n",
      "Wall time: 32.5 ms\n"
     ]
    },
    {
     "data": {
      "application/vnd.vegalite.v4+json": {
       "$schema": "https://vega.github.io/schema/vega-lite/v4.17.0.json",
       "config": {
        "view": {
         "continuousHeight": 300,
         "continuousWidth": 400
        }
       },
       "data": {
        "name": "data-31d7f699d079687385f0e94d8a4ce2e9"
       },
       "datasets": {
        "data-31d7f699d079687385f0e94d8a4ce2e9": [
         {
          "month": 1,
          "rain (mm/day)": 2.451837596346687
         },
         {
          "month": 2,
          "rain (mm/day)": 2.4922572689038565
         },
         {
          "month": 3,
          "rain (mm/day)": 2.1147014614169044
         },
         {
          "month": 4,
          "rain (mm/day)": 1.7193609338777167
         },
         {
          "month": 5,
          "rain (mm/day)": 1.6686034221178654
         },
         {
          "month": 6,
          "rain (mm/day)": 1.7746074174032944
         },
         {
          "month": 7,
          "rain (mm/day)": 1.5749233489018937
         },
         {
          "month": 8,
          "rain (mm/day)": 1.5033542341646962
         },
         {
          "month": 9,
          "rain (mm/day)": 1.4639571076651068
         },
         {
          "month": 10,
          "rain (mm/day)": 1.6277469149431287
         },
         {
          "month": 11,
          "rain (mm/day)": 2.096815146221584
         },
         {
          "month": 12,
          "rain (mm/day)": 2.36375978801515
         }
        ]
       },
       "encoding": {
        "color": {
         "field": "rain (mm/day)",
         "title": "Rainfall (mm)",
         "type": "quantitative"
        },
        "x": {
         "field": "month",
         "title": "Month",
         "type": "ordinal"
        },
        "y": {
         "field": "rain (mm/day)",
         "title": "Average rainfall (mm)",
         "type": "quantitative"
        }
       },
       "height": 400,
       "mark": "bar",
       "title": "Average rainfall by month over the years 1889-2014",
       "width": 500
      },
      "image/png": "[encoded data removed]",
      "text/plain": [
       "<VegaLite 4 object>\n",
       "\n",
       "If you see this message, it means the renderer has not been properly enabled\n",
       "for the frontend that you are using. For more information, see\n",
       "https://altair-viz.github.io/user_guide/troubleshooting.html\n"
      ]
     },
     "execution_count": 19,
     "metadata": {},
     "output_type": "execute_result"
    }
   ],
   "source": [
    "%%time\n",
    "(alt.Chart(ddf, title='Average rainfall by month over the years 1889-2014')\n",
    "    .encode(x=alt.X('month:O', title='Month'), \n",
    "            y=alt.Y('rain (mm/day)', title='Average rainfall (mm)'), \n",
    "            color=alt.Color('rain (mm/day)', title='Rainfall (mm)')).mark_bar()).properties(width=500, height=400)"
   ]
  },
  {
   "cell_type": "markdown",
   "id": "f8983b52-d1c6-4a62-9580-ef93dd106784",
   "metadata": {},
   "source": [
    "| Team Member       | Operating System | RAM  | Processor | Is SSD | Time taken |\n",
    "|-------------------|------------------|------|-----------|--------|------------|\n",
    "| Karanpreet Kaur   | windows           | 8 GB    | Processor 11th Gen Intel(R) Core(TM) i5     |       yes    |   1 min 30 s   |            |\n",
    "| Melisa Maidana    | mac              | 8 GB | M1        | yes    |            |\n",
    "| Nagraj Rao        |                  |      |           |        |            |\n",
    "| Ting Zhe (TZ) Yan | mac              | 8 GB | M1        | yes    |            |"
   ]
  },
  {
   "cell_type": "markdown",
   "id": "27e75604-ecff-4732-9f90-9622458f1137",
   "metadata": {},
   "source": [
    "### 6. Perform a simple EDA in R"
   ]
  },
  {
   "cell_type": "markdown",
   "id": "db42141c-cc61-4c3b-b28c-4584186eb0d9",
   "metadata": {},
   "source": [
    "#### Approach to transfer the dataframe from python to R"
   ]
  },
  {
   "cell_type": "code",
   "execution_count": 20,
   "id": "4677deb4-0aaa-4046-951a-54ca3335bd2c",
   "metadata": {},
   "outputs": [
    {
     "name": "stderr",
     "output_type": "stream",
     "text": [
      "C:\\Users\\hp\\miniconda3\\envs\\525_2022\\lib\\site-packages\\rpy2\\robjects\\packages.py:366: UserWarning: The symbol 'quartz' is not in this R namespace/package.\n",
      "  warnings.warn(\n"
     ]
    }
   ],
   "source": [
    "%load_ext rpy2.ipython"
   ]
  },
  {
   "cell_type": "code",
   "execution_count": 21,
   "id": "7ac84dd7-6e92-4c3a-9eb1-100fcf1e9eaf",
   "metadata": {},
   "outputs": [
    {
     "name": "stdout",
     "output_type": "stream",
     "text": [
      "Time difference of 1.135065 secs\n"
     ]
    },
    {
     "data": {
      "image/png": "[encoded data removed]"
     },
     "metadata": {},
     "output_type": "display_data"
    },
    {
     "name": "stdout",
     "output_type": "stream",
     "text": [
      "CPU times: total: 1.38 s\n",
      "Wall time: 1.64 s\n"
     ]
    }
   ],
   "source": [
    "%%time\n",
    "%%R -i df\n",
    "start_time <- Sys.time()\n",
    "suppressMessages(library(dplyr))\n",
    "suppressMessages(library(ggplot2))\n",
    "p <- ggplot(df, aes(x=as.factor(month), y=`rain (mm/day)`, fill=`rain (mm/day)`)) +\n",
    "     geom_bar(stat='identity') +\n",
    "     labs(x = 'Month', y='Average rainfall (mm)', title='Average rainfall by month over the years 1889-2014') +\n",
    "    theme(text=element_text(size=15))\n",
    "    \n",
    "end_time <- Sys.time()\n",
    "print(p)\n",
    "print(end_time - start_time)"
   ]
  },
  {
   "cell_type": "markdown",
   "id": "a9dd711f-f79d-421f-a4df-d86314e1fcaa",
   "metadata": {},
   "source": [
    "#### Discuss why you chose this approach over others"
   ]
  },
  {
   "cell_type": "markdown",
   "id": "a2541c5c-4b86-463f-911e-cd3678dc1689",
   "metadata": {},
   "source": [
    "_Used `arrow exchange` over other three methods (Parquet file, Feather file, Pandas exchange) as we have already selected desired columns and carried out wrangling for EDA in pandas dataframe. So, it made more sense to use arrow exchange instead of having csv read as parquet or feather file and again do same wrangling._"
   ]
  },
  {
   "cell_type": "markdown",
   "id": "aa86d354-3028-475e-adc4-35a812c43fd2",
   "metadata": {
    "tags": []
   },
   "source": [
    "#### Summary of results"
   ]
  },
  {
   "cell_type": "markdown",
   "id": "3c3da73e-90e0-4adb-897d-5a2d6546532d",
   "metadata": {},
   "source": [
    "| Team Member       | Operating System | RAM  | Processor | Is SSD | Time taken |\n",
    "|-------------------|------------------|------|-----------|--------|------------|\n",
    "| Karanpreet Kaur   | windows           | 8 GB    | Processor 11th Gen Intel(R) Core(TM) i5     |       yes    |   1.13 secs  |            |\n",
    "| Melisa Maidana    | mac              | 8 GB | M1        | yes    |            |\n",
    "| Nagraj Rao        |                  |      |           |        |            |\n",
    "| Ting Zhe (TZ) Yan | mac              | 8 GB | M1        | yes    |            |"
   ]
  }
 ],
 "metadata": {
  "kernelspec": {
   "display_name": "Python [conda env:525_2022]",
   "language": "python",
   "name": "conda-env-525_2022-py"
  },
  "language_info": {
   "codemirror_mode": {
    "name": "ipython",
    "version": 3
   },
   "file_extension": ".py",
   "mimetype": "text/x-python",
   "name": "python",
   "nbconvert_exporter": "python",
   "pygments_lexer": "ipython3",
   "version": "3.8.6"
  }
 },
 "nbformat": 4,
 "nbformat_minor": 5
}
