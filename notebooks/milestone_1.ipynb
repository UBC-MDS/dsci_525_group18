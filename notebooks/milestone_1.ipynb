{
 "cells": [
  {
   "cell_type": "markdown",
   "id": "476c14d0-13ce-4ffd-902b-5733e417ae58",
   "metadata": {},
   "source": [
    "# Milestone 1"
   ]
  },
  {
   "cell_type": "markdown",
   "id": "464dddac-5e8e-4d63-ae4b-6cc0b2056af0",
   "metadata": {},
   "source": [
    "The objective of this project is to analyze the modelled daily rainfall dataset over NSW, Australia, spanning 1889- 2014. The dataset can be found [here](https://figshare.com/articles/dataset/Daily_rainfall_over_NSW_Australia/14096681). "
   ]
  },
  {
   "cell_type": "markdown",
   "id": "0fe9ad03-c8dc-4925-a753-ed01e3e39f3a",
   "metadata": {},
   "source": [
    "### Imports"
   ]
  },
  {
   "cell_type": "code",
   "execution_count": 1,
   "id": "c329e6ce-d5c0-4240-a84f-e7cdcdd8aee4",
   "metadata": {},
   "outputs": [],
   "source": [
    "import re\n",
    "import os\n",
    "import glob\n",
    "import zipfile\n",
    "import requests\n",
    "from urllib.request import urlretrieve\n",
    "import json\n",
    "import pandas as pd\n",
    "import dask\n",
    "import dask.dataframe as dd\n",
    "import seaborn as sns\n",
    "import altair as alt"
   ]
  },
  {
   "cell_type": "code",
   "execution_count": 2,
   "id": "b807aaae-3a54-4d6b-988c-7cd2aba49cfb",
   "metadata": {},
   "outputs": [
    {
     "data": {
      "text/plain": [
       "RendererRegistry.enable('mimetype')"
      ]
     },
     "execution_count": 2,
     "metadata": {},
     "output_type": "execute_result"
    }
   ],
   "source": [
    "alt.renderers.enable('mimetype')"
   ]
  },
  {
   "cell_type": "markdown",
   "id": "6c9795bd-287c-4610-86bf-6ccf6beb080e",
   "metadata": {},
   "source": [
    "### Variables"
   ]
  },
  {
   "cell_type": "code",
   "execution_count": 3,
   "id": "9de76a0c-d4fb-4d9d-baf1-98f6f375f5b5",
   "metadata": {},
   "outputs": [],
   "source": [
    "# Figshare article metadata\n",
    "article_id = 14096681\n",
    "url = f\"https://api.figshare.com/v2/articles/{article_id}\"\n",
    "headers = {\"Content-Type\": \"application/json\"}\n",
    "output_directory = \"figsharerainfall\""
   ]
  },
  {
   "cell_type": "markdown",
   "id": "8ed7d96a-dd62-4121-994c-d7c47e2081bc",
   "metadata": {},
   "source": [
    "### 3. Send API request to Figshare to download rainfall data "
   ]
  },
  {
   "cell_type": "markdown",
   "id": "c2632624-ae75-440e-9e9a-c8491b25526d",
   "metadata": {},
   "source": [
    "We will download the data from [figshare](https://figshare.com/articles/dataset/Daily_rainfall_over_NSW_Australia/14096681) using [figshare API](https://docs.figshare.com/)."
   ]
  },
  {
   "cell_type": "code",
   "execution_count": 4,
   "id": "dab20488-2e21-4b72-a9eb-4da8c6a9d856",
   "metadata": {},
   "outputs": [
    {
     "data": {
      "text/plain": [
       "{'id': 26766812,\n",
       " 'name': 'data.zip',\n",
       " 'size': 814041183,\n",
       " 'is_link_only': False,\n",
       " 'download_url': 'https://ndownloader.figshare.com/files/26766812',\n",
       " 'supplied_md5': 'b517383f76e77bd03755a63a8ff83ee9',\n",
       " 'computed_md5': 'b517383f76e77bd03755a63a8ff83ee9'}"
      ]
     },
     "execution_count": 4,
     "metadata": {},
     "output_type": "execute_result"
    }
   ],
   "source": [
    "response = requests.request(\"GET\", url, headers=headers)\n",
    "data = json.loads(response.text)  # articles data\n",
    "files = data[\"files\"]             # list of files\n",
    "files[3] # target file (data.zip)"
   ]
  },
  {
   "cell_type": "markdown",
   "id": "407aed34-d8ed-4b7c-8bf0-76190caba443",
   "metadata": {},
   "source": [
    "### Collect data.zip folder from the list of `files` "
   ]
  },
  {
   "cell_type": "code",
   "execution_count": 5,
   "id": "de236e70-3c03-4729-a446-056fb07403b2",
   "metadata": {},
   "outputs": [
    {
     "name": "stdout",
     "output_type": "stream",
     "text": [
      "CPU times: user 4.25 s, sys: 7.61 s, total: 11.9 s\n",
      "Wall time: 44.5 s\n"
     ]
    }
   ],
   "source": [
    "%%time\n",
    "files_to_dl = [\"data.zip\"]\n",
    "for file in files:\n",
    "    if file[\"name\"] in files_to_dl:\n",
    "        os.makedirs(output_directory, exist_ok=True)\n",
    "        # Download data.zip\n",
    "        urlretrieve(file[\"download_url\"], os.path.join(output_directory, file[\"name\"]))"
   ]
  },
  {
   "cell_type": "markdown",
   "id": "c2a3aa1f-a126-4125-be7c-0927be5c84c3",
   "metadata": {},
   "source": [
    "### Unzip files from `data.zip` folder"
   ]
  },
  {
   "cell_type": "code",
   "execution_count": 6,
   "id": "c69b6c12-a861-43d1-a829-91891350b69a",
   "metadata": {},
   "outputs": [
    {
     "name": "stdout",
     "output_type": "stream",
     "text": [
      "CPU times: user 14.8 s, sys: 1.98 s, total: 16.8 s\n",
      "Wall time: 19.1 s\n"
     ]
    }
   ],
   "source": [
    "%%time\n",
    "with zipfile.ZipFile(os.path.join(output_directory, \"data.zip\"), 'r') as f:\n",
    "    f.extractall(os.path.join(output_directory, \"data\"))"
   ]
  },
  {
   "cell_type": "markdown",
   "id": "42b2d610-4235-441d-9ff5-3e907843ce52",
   "metadata": {},
   "source": [
    "### 4. Combining csv's in `data` folder"
   ]
  },
  {
   "cell_type": "code",
   "execution_count": 7,
   "id": "fab47c10-7597-4806-8b2f-7fa5238804e7",
   "metadata": {},
   "outputs": [
    {
     "name": "stdout",
     "output_type": "stream",
     "text": [
      "CPU times: user 5min 48s, sys: 17.5 s, total: 6min 5s\n",
      "Wall time: 6min 16s\n"
     ]
    }
   ],
   "source": [
    "%%time\n",
    "## merging files\n",
    "files = glob.glob(os.path.join(output_directory, \"data\", \"*.csv\"))\n",
    "# Exclude observed_daily_rainfall from our analysis\n",
    "files = [file for file in files if file != os.path.join(output_directory, \"data\", \"observed_daily_rainfall_SYD.csv\")]\n",
    "df = pd.concat((pd.read_csv(file, index_col=0) \n",
    "                .assign(model=re.findall(r'[^\\/(\\\\)]+(?=\\_daily_rainfall_NSW.csv)', file)[0])\n",
    "                for file in files)\n",
    "              )\n",
    "df.to_csv(os.path.join(output_directory, \"combined_data.csv\"))"
   ]
  },
  {
   "cell_type": "markdown",
   "id": "bd4c2029-0b20-4ec8-ac8b-71164567dc8e",
   "metadata": {},
   "source": [
    "| Team Member       | Operating System | RAM  | Processor | Is SSD | Time taken |\n",
    "|-------------------|------------------|------|-----------|--------|------------|\n",
    "| Karanpreet Kaur   | windows           | 8 GB    | Processor 11th Gen Intel(R) Core(TM) i5     |       yes    |    11 min 12s  |            |\n",
    "| Melisa Maidana    | mac              | 8 GB | M1        | yes    |   6 min 1s         |\n",
    "| Nagraj Rao        | windows          |32 GB |AMD Ryzen 7 PRO 5850U with Radeon Graphics 1.90 GHz| yes        |   10 min 40s         |\n",
    "| Ting Zhe (TZ) Yan | mac              | 8 GB | M1        | yes    |  6 min 23s          |"
   ]
  },
  {
   "cell_type": "markdown",
   "id": "18359b27-36be-47eb-bba5-cd9f4c95aa06",
   "metadata": {},
   "source": [
    "Comparing run times on different machines of our team members for combining csv's in the data folder reveals some interesting observations:\n",
    "\n",
    "(i) Mac's seem to take less time than PC's and thereby more time efficient while combining csv's in the data folder. On average, there is a reduction of nearly 5 minutes by using Mac OS as opposed to Windows. \n",
    "\n",
    "(ii) Between the two Windows machines, the increase in RAM and difference in processor does not seem to impact the time taken very drastically. It has to be noted that this number is likely confounded by the number of parallel applications running on the two machines, which cannot be controlled for. "
   ]
  },
  {
   "cell_type": "code",
   "execution_count": 8,
   "id": "b610430a-2c84-4718-b203-e550990c2e15",
   "metadata": {},
   "outputs": [
    {
     "name": "stdout",
     "output_type": "stream",
     "text": [
      "5.6G\tfigsharerainfall/combined_data.csv\n"
     ]
    }
   ],
   "source": [
    "%%sh\n",
    "du -sh figsharerainfall/combined_data.csv"
   ]
  },
  {
   "cell_type": "code",
   "execution_count": 9,
   "id": "6feaed75-8f93-4573-8ab3-3b7685e405d9",
   "metadata": {},
   "outputs": [
    {
     "name": "stdout",
     "output_type": "stream",
     "text": [
      "(62467843, 6)\n"
     ]
    }
   ],
   "source": [
    "print(df.shape)"
   ]
  },
  {
   "cell_type": "code",
   "execution_count": 10,
   "id": "9ddc7638-1030-4140-832a-4147293ce722",
   "metadata": {},
   "outputs": [
    {
     "data": {
      "text/html": [
       "<div>\n",
       "<style scoped>\n",
       "    .dataframe tbody tr th:only-of-type {\n",
       "        vertical-align: middle;\n",
       "    }\n",
       "\n",
       "    .dataframe tbody tr th {\n",
       "        vertical-align: top;\n",
       "    }\n",
       "\n",
       "    .dataframe thead th {\n",
       "        text-align: right;\n",
       "    }\n",
       "</style>\n",
       "<table border=\"1\" class=\"dataframe\">\n",
       "  <thead>\n",
       "    <tr style=\"text-align: right;\">\n",
       "      <th></th>\n",
       "      <th>lat_min</th>\n",
       "      <th>lat_max</th>\n",
       "      <th>lon_min</th>\n",
       "      <th>lon_max</th>\n",
       "      <th>rain (mm/day)</th>\n",
       "      <th>model</th>\n",
       "    </tr>\n",
       "    <tr>\n",
       "      <th>time</th>\n",
       "      <th></th>\n",
       "      <th></th>\n",
       "      <th></th>\n",
       "      <th></th>\n",
       "      <th></th>\n",
       "      <th></th>\n",
       "    </tr>\n",
       "  </thead>\n",
       "  <tbody>\n",
       "    <tr>\n",
       "      <th>1889-01-01 12:00:00</th>\n",
       "      <td>-35.439867</td>\n",
       "      <td>-33.574619</td>\n",
       "      <td>141.5625</td>\n",
       "      <td>143.4375</td>\n",
       "      <td>4.244226e-13</td>\n",
       "      <td>MPI-ESM-1-2-HAM</td>\n",
       "    </tr>\n",
       "    <tr>\n",
       "      <th>1889-01-02 12:00:00</th>\n",
       "      <td>-35.439867</td>\n",
       "      <td>-33.574619</td>\n",
       "      <td>141.5625</td>\n",
       "      <td>143.4375</td>\n",
       "      <td>4.217326e-13</td>\n",
       "      <td>MPI-ESM-1-2-HAM</td>\n",
       "    </tr>\n",
       "    <tr>\n",
       "      <th>1889-01-03 12:00:00</th>\n",
       "      <td>-35.439867</td>\n",
       "      <td>-33.574619</td>\n",
       "      <td>141.5625</td>\n",
       "      <td>143.4375</td>\n",
       "      <td>4.498125e-13</td>\n",
       "      <td>MPI-ESM-1-2-HAM</td>\n",
       "    </tr>\n",
       "    <tr>\n",
       "      <th>1889-01-04 12:00:00</th>\n",
       "      <td>-35.439867</td>\n",
       "      <td>-33.574619</td>\n",
       "      <td>141.5625</td>\n",
       "      <td>143.4375</td>\n",
       "      <td>4.251282e-13</td>\n",
       "      <td>MPI-ESM-1-2-HAM</td>\n",
       "    </tr>\n",
       "    <tr>\n",
       "      <th>1889-01-05 12:00:00</th>\n",
       "      <td>-35.439867</td>\n",
       "      <td>-33.574619</td>\n",
       "      <td>141.5625</td>\n",
       "      <td>143.4375</td>\n",
       "      <td>4.270161e-13</td>\n",
       "      <td>MPI-ESM-1-2-HAM</td>\n",
       "    </tr>\n",
       "  </tbody>\n",
       "</table>\n",
       "</div>"
      ],
      "text/plain": [
       "                       lat_min    lat_max   lon_min   lon_max  rain (mm/day)  \\\n",
       "time                                                                           \n",
       "1889-01-01 12:00:00 -35.439867 -33.574619  141.5625  143.4375   4.244226e-13   \n",
       "1889-01-02 12:00:00 -35.439867 -33.574619  141.5625  143.4375   4.217326e-13   \n",
       "1889-01-03 12:00:00 -35.439867 -33.574619  141.5625  143.4375   4.498125e-13   \n",
       "1889-01-04 12:00:00 -35.439867 -33.574619  141.5625  143.4375   4.251282e-13   \n",
       "1889-01-05 12:00:00 -35.439867 -33.574619  141.5625  143.4375   4.270161e-13   \n",
       "\n",
       "                               model  \n",
       "time                                  \n",
       "1889-01-01 12:00:00  MPI-ESM-1-2-HAM  \n",
       "1889-01-02 12:00:00  MPI-ESM-1-2-HAM  \n",
       "1889-01-03 12:00:00  MPI-ESM-1-2-HAM  \n",
       "1889-01-04 12:00:00  MPI-ESM-1-2-HAM  \n",
       "1889-01-05 12:00:00  MPI-ESM-1-2-HAM  "
      ]
     },
     "execution_count": 10,
     "metadata": {},
     "output_type": "execute_result"
    }
   ],
   "source": [
    "df.head()"
   ]
  },
  {
   "cell_type": "markdown",
   "id": "fe7f51cd-752e-4e4c-bd2f-2cff5edd15ea",
   "metadata": {
    "tags": []
   },
   "source": [
    "### 5. Load the combined CSV to memory and perform a simple EDA"
   ]
  },
  {
   "cell_type": "markdown",
   "id": "9d5440ac-8009-4019-b86d-acb06050dbb9",
   "metadata": {},
   "source": [
    "#### Combined Approach #1 & Approach # 2\n",
    "_Loading only required columns and also change dtype of column `rain (mm/day)` while reading csv to reduce memory usage_"
   ]
  },
  {
   "cell_type": "code",
   "execution_count": 11,
   "id": "ae266de8-6b9e-4499-92c9-7cc000af1aee",
   "metadata": {},
   "outputs": [
    {
     "name": "stdout",
     "output_type": "stream",
     "text": [
      "CPU times: user 28.8 s, sys: 4.06 s, total: 32.9 s\n",
      "Wall time: 36.2 s\n"
     ]
    }
   ],
   "source": [
    "%%time\n",
    "use_cols = ['rain (mm/day)', 'time']\n",
    "df = pd.read_csv(os.path.join(output_directory, \"combined_data.csv\"), usecols=use_cols, index_col=False, \n",
    "                 dtype={'rain (mm/day)':'float32'})"
   ]
  },
  {
   "cell_type": "code",
   "execution_count": 12,
   "id": "e9419f97-85be-4b2d-9241-7869c67bc1d4",
   "metadata": {},
   "outputs": [
    {
     "name": "stdout",
     "output_type": "stream",
     "text": [
      "Memory usage with float32: 749.61 MB\n"
     ]
    }
   ],
   "source": [
    "# Memory usage\n",
    "print(f\"Memory usage with float32: {df.memory_usage().sum() / 1e6:.2f} MB\")"
   ]
  },
  {
   "cell_type": "code",
   "execution_count": 13,
   "id": "b6a68a3b-13a2-4161-a5b4-50219520d0e0",
   "metadata": {},
   "outputs": [
    {
     "name": "stdout",
     "output_type": "stream",
     "text": [
      "CPU times: user 10.5 s, sys: 2.49 s, total: 13 s\n",
      "Wall time: 14.6 s\n"
     ]
    }
   ],
   "source": [
    "%%time\n",
    "df['month'] = pd.to_datetime(df['time']).dt.month\n",
    "df = df.groupby(['month'], as_index=False).agg({'rain (mm/day)':'mean'})"
   ]
  },
  {
   "cell_type": "code",
   "execution_count": 14,
   "id": "62880390-769a-4a33-a989-077a5fc1925b",
   "metadata": {},
   "outputs": [
    {
     "name": "stdout",
     "output_type": "stream",
     "text": [
      "CPU times: user 9.97 ms, sys: 32.2 ms, total: 42.2 ms\n",
      "Wall time: 56.6 ms\n"
     ]
    },
    {
     "data": {
      "application/vnd.vegalite.v4+json": {
       "$schema": "https://vega.github.io/schema/vega-lite/v4.17.0.json",
       "config": {
        "view": {
         "continuousHeight": 300,
         "continuousWidth": 400
        }
       },
       "data": {
        "name": "data-39a3546d8e5cb52971346fcf11a8c56a"
       },
       "datasets": {
        "data-39a3546d8e5cb52971346fcf11a8c56a": [
         {
          "month": 1,
          "rain (mm/day)": 2.4518375396728516
         },
         {
          "month": 2,
          "rain (mm/day)": 2.4922573566436768
         },
         {
          "month": 3,
          "rain (mm/day)": 2.114701509475708
         },
         {
          "month": 4,
          "rain (mm/day)": 1.7193609476089478
         },
         {
          "month": 5,
          "rain (mm/day)": 1.6686034202575684
         },
         {
          "month": 6,
          "rain (mm/day)": 1.7746074199676514
         },
         {
          "month": 7,
          "rain (mm/day)": 1.5749233961105347
         },
         {
          "month": 8,
          "rain (mm/day)": 1.5033541917800903
         },
         {
          "month": 9,
          "rain (mm/day)": 1.4639570713043213
         },
         {
          "month": 10,
          "rain (mm/day)": 1.6277469396591187
         },
         {
          "month": 11,
          "rain (mm/day)": 2.0968151092529297
         },
         {
          "month": 12,
          "rain (mm/day)": 2.363759756088257
         }
        ]
       },
       "encoding": {
        "color": {
         "field": "rain (mm/day)",
         "title": "Rainfall (mm)",
         "type": "quantitative"
        },
        "x": {
         "field": "month",
         "title": "Month",
         "type": "ordinal"
        },
        "y": {
         "field": "rain (mm/day)",
         "title": "Average rainfall (mm)",
         "type": "quantitative"
        }
       },
       "height": 400,
       "mark": "bar",
       "title": "Average rainfall by month over the years 1889-2014",
       "width": 500
      },
      "image/png": "[encoded data removed]",
      "text/plain": [
       "<VegaLite 4 object>\n",
       "\n",
       "If you see this message, it means the renderer has not been properly enabled\n",
       "for the frontend that you are using. For more information, see\n",
       "https://altair-viz.github.io/user_guide/troubleshooting.html\n"
      ]
     },
     "execution_count": 14,
     "metadata": {},
     "output_type": "execute_result"
    }
   ],
   "source": [
    "%%time\n",
    "(alt.Chart(df, title='Average rainfall by month over the years 1889-2014')\n",
    "    .encode(x=alt.X('month:O', title='Month'), \n",
    "            y=alt.Y('rain (mm/day)', title='Average rainfall (mm)'), \n",
    "            color=alt.Color('rain (mm/day)', title='Rainfall (mm)')).mark_bar()).properties(width=500, height=400)"
   ]
  },
  {
   "cell_type": "markdown",
   "id": "a5853c45-1e89-4983-aab8-85f7c3f5a5ae",
   "metadata": {},
   "source": [
    "| Team Member       | Operating System | RAM  | Processor | Is SSD | Time taken |\n",
    "|-------------------|------------------|------|-----------|--------|------------|\n",
    "| Karanpreet Kaur   | windows           | 8 GB    | Processor 11th Gen Intel(R) Core(TM) i5     |       yes    |   2 mins   |            |\n",
    "| Melisa Maidana    | mac              | 8 GB | M1        | yes    |     53.65 s       |\n",
    "| Nagraj Rao        |  windows         |32 GB |AMD Ryzen 7 PRO 5850U with Radeon Graphics 1.90 GHz| yes   |       2 mins 40s     |\n",
    "| Ting Zhe (TZ) Yan | mac              | 8 GB | M1        | yes    |       57s     |"
   ]
  },
  {
   "cell_type": "markdown",
   "id": "c48e29ba-a7da-4260-84c1-cb03370a605d",
   "metadata": {},
   "source": [
    "Comparing run times on different machines of our team members for loading the combined CSV to memory and performing simple EDA (Combined Approach 1 and 2) reveals some interesting observations:\n",
    "\n",
    "(i) Mac's seem to take less time than PC's and thereby more time efficient while loading the CSV to memory and performing EDA. On average, there is a reduction of slightly over 1 minute by using Mac OS as opposed to Windows. \n",
    "\n",
    "(ii) Between the two Windows machines, the increase in RAM and difference in processor does not seem to play a role - in fact, the machine with greater RAM took slightly longer. It has to be noted that this number is likely confounded by the number of parallel applications running on the two machines, which cannot be controlled for. "
   ]
  },
  {
   "cell_type": "markdown",
   "id": "e05674ca-3556-4833-b84f-3e3822326222",
   "metadata": {},
   "source": [
    "#### Approach #2"
   ]
  },
  {
   "cell_type": "markdown",
   "id": "24c306f8-7966-4c78-a0e8-04884224a3d7",
   "metadata": {},
   "source": [
    "Next, we will use [Dask](https://dask.org/) to load our data and do some simple aggregation."
   ]
  },
  {
   "cell_type": "code",
   "execution_count": 15,
   "id": "032bec84-9e65-46c5-b8db-2126080c8c0b",
   "metadata": {},
   "outputs": [
    {
     "name": "stdout",
     "output_type": "stream",
     "text": [
      "CPU times: user 6.06 ms, sys: 6.61 ms, total: 12.7 ms\n",
      "Wall time: 24.5 ms\n"
     ]
    }
   ],
   "source": [
    "%%time\n",
    "# Read csv as Dask dataframe\n",
    "ddf = dd.read_csv('figsharerainfall/combined_data.csv', usecols=use_cols, parse_dates=[\"time\"])"
   ]
  },
  {
   "cell_type": "code",
   "execution_count": 16,
   "id": "b01139c5-4f16-4056-b08c-b972048b9a0d",
   "metadata": {},
   "outputs": [
    {
     "name": "stdout",
     "output_type": "stream",
     "text": [
      "CPU times: user 48.1 s, sys: 10.1 s, total: 58.2 s\n",
      "Wall time: 28.8 s\n"
     ]
    }
   ],
   "source": [
    "%%time\n",
    "ddf['month'] = ddf['time'].dt.month\n",
    "ddf = ddf.groupby(['month']).agg({'rain (mm/day)':'mean'}).compute()\n",
    "ddf = ddf.reset_index()"
   ]
  },
  {
   "cell_type": "code",
   "execution_count": 17,
   "id": "2df2a11d-223d-4135-853c-4ed739035d47",
   "metadata": {},
   "outputs": [
    {
     "name": "stdout",
     "output_type": "stream",
     "text": [
      "CPU times: user 9.17 ms, sys: 2.74 ms, total: 11.9 ms\n",
      "Wall time: 12 ms\n"
     ]
    },
    {
     "data": {
      "application/vnd.vegalite.v4+json": {
       "$schema": "https://vega.github.io/schema/vega-lite/v4.17.0.json",
       "config": {
        "view": {
         "continuousHeight": 300,
         "continuousWidth": 400
        }
       },
       "data": {
        "name": "data-9647e7420aa0add4375969598a7e3db8"
       },
       "datasets": {
        "data-9647e7420aa0add4375969598a7e3db8": [
         {
          "month": 1,
          "rain (mm/day)": 2.451837596346687
         },
         {
          "month": 2,
          "rain (mm/day)": 2.4922572689038565
         },
         {
          "month": 3,
          "rain (mm/day)": 2.1147014614169044
         },
         {
          "month": 4,
          "rain (mm/day)": 1.7193609338777167
         },
         {
          "month": 5,
          "rain (mm/day)": 1.6686034221178654
         },
         {
          "month": 6,
          "rain (mm/day)": 1.7746074174032944
         },
         {
          "month": 7,
          "rain (mm/day)": 1.5749233489018937
         },
         {
          "month": 8,
          "rain (mm/day)": 1.503354234164696
         },
         {
          "month": 9,
          "rain (mm/day)": 1.463957107665107
         },
         {
          "month": 10,
          "rain (mm/day)": 1.6277469149431287
         },
         {
          "month": 11,
          "rain (mm/day)": 2.096815146221584
         },
         {
          "month": 12,
          "rain (mm/day)": 2.36375978801515
         }
        ]
       },
       "encoding": {
        "color": {
         "field": "rain (mm/day)",
         "title": "Rainfall (mm)",
         "type": "quantitative"
        },
        "x": {
         "field": "month",
         "title": "Month",
         "type": "ordinal"
        },
        "y": {
         "field": "rain (mm/day)",
         "title": "Average rainfall (mm)",
         "type": "quantitative"
        }
       },
       "height": 400,
       "mark": "bar",
       "title": "Average rainfall by month over the years 1889-2014",
       "width": 500
      },
      "image/png": "[encoded data removed]",
      "text/plain": [
       "<VegaLite 4 object>\n",
       "\n",
       "If you see this message, it means the renderer has not been properly enabled\n",
       "for the frontend that you are using. For more information, see\n",
       "https://altair-viz.github.io/user_guide/troubleshooting.html\n"
      ]
     },
     "execution_count": 17,
     "metadata": {},
     "output_type": "execute_result"
    }
   ],
   "source": [
    "%%time\n",
    "(alt.Chart(ddf, title='Average rainfall by month over the years 1889-2014')\n",
    "    .encode(x=alt.X('month:O', title='Month'), \n",
    "            y=alt.Y('rain (mm/day)', title='Average rainfall (mm)'), \n",
    "            color=alt.Color('rain (mm/day)', title='Rainfall (mm)')).mark_bar()).properties(width=500, height=400)"
   ]
  },
  {
   "cell_type": "markdown",
   "id": "f8983b52-d1c6-4a62-9580-ef93dd106784",
   "metadata": {},
   "source": [
    "| Team Member       | Operating System | RAM  | Processor | Is SSD | Time taken |\n",
    "|-------------------|------------------|------|-----------|--------|------------|\n",
    "| Karanpreet Kaur   | windows           | 8 GB    | Processor 11th Gen Intel(R) Core(TM) i5     |       yes    |   1 min 30 s   |            |\n",
    "| Melisa Maidana    | mac              | 8 GB | M1        | yes    |     31.03 s       |\n",
    "| Nagraj Rao        | windows          |32 GB | AMD Ryzen 7 PRO 5850U with Radeon Graphics 1.90 GHz| yes |         3 min 25 s   |\n",
    "| Ting Zhe (TZ) Yan | mac              | 8 GB | M1        | yes    |   34s         |"
   ]
  },
  {
   "cell_type": "markdown",
   "id": "f601243d-280d-4825-a98f-b25b1f2b35db",
   "metadata": {},
   "source": [
    "Comparing run times on different machines of our team members for loading the combined CSV to memory and performing simple EDA (Approach 2) reveals some interesting observations:\n",
    "\n",
    "(i) Mac's seem to take less time than PC's and thereby more time efficient while loading the CSV to memory and performing EDA. On average, Mac OS is 5 times more time efficient. \n",
    "\n",
    "(ii) Between the two Windows machines, the increase in RAM and difference in processor has an opposite effect - the machine with greater RAM took more than double the time. It has to be noted that this number is likely confounded by the number of parallel applications running on the two machines, which cannot be controlled for. "
   ]
  },
  {
   "cell_type": "markdown",
   "id": "27e75604-ecff-4732-9f90-9622458f1137",
   "metadata": {},
   "source": [
    "### 6. Perform a simple EDA in R"
   ]
  },
  {
   "cell_type": "markdown",
   "id": "db42141c-cc61-4c3b-b28c-4584186eb0d9",
   "metadata": {},
   "source": [
    "#### Approach to transfer the dataframe from python to R"
   ]
  },
  {
   "cell_type": "code",
   "execution_count": 18,
   "id": "4677deb4-0aaa-4046-951a-54ca3335bd2c",
   "metadata": {},
   "outputs": [],
   "source": [
    "%load_ext rpy2.ipython"
   ]
  },
  {
   "cell_type": "code",
   "execution_count": 19,
   "id": "7ac84dd7-6e92-4c3a-9eb1-100fcf1e9eaf",
   "metadata": {},
   "outputs": [
    {
     "name": "stdout",
     "output_type": "stream",
     "text": [
      "Time difference of 0.596272 secs\n"
     ]
    },
    {
     "data": {
      "image/png": "[encoded data removed]"
     },
     "metadata": {},
     "output_type": "display_data"
    },
    {
     "name": "stdout",
     "output_type": "stream",
     "text": [
      "CPU times: user 586 ms, sys: 140 ms, total: 726 ms\n",
      "Wall time: 1.68 s\n"
     ]
    }
   ],
   "source": [
    "%%time\n",
    "%%R -i df\n",
    "start_time <- Sys.time()\n",
    "suppressMessages(library(dplyr))\n",
    "suppressMessages(library(ggplot2))\n",
    "p <- ggplot(df, aes(x=as.factor(month), y=`rain (mm/day)`, fill=`rain (mm/day)`)) +\n",
    "     geom_bar(stat='identity') +\n",
    "     labs(x = 'Month', y='Average rainfall (mm)', title='Average rainfall by month over the years 1889-2014') +\n",
    "    theme(text=element_text(size=15))\n",
    "    \n",
    "end_time <- Sys.time()\n",
    "print(p)\n",
    "print(end_time - start_time)"
   ]
  },
  {
   "cell_type": "markdown",
   "id": "a9dd711f-f79d-421f-a4df-d86314e1fcaa",
   "metadata": {},
   "source": [
    "#### Discuss why you chose this approach over others"
   ]
  },
  {
   "cell_type": "markdown",
   "id": "a2541c5c-4b86-463f-911e-cd3678dc1689",
   "metadata": {},
   "source": [
    "Our team used `arrow exchange` over other three methods (Parquet file, Feather file, Pandas exchange) for several reasons:\n",
    "\n",
    "(i) We had already selected desired columns and carried out wrangling for EDA in pandas dataframe. So, it made more sense to use arrow exchange instead of having csv read as parquet or feather file and again do same wrangling.\n",
    "\n",
    "(ii) We also found installation for arrow exchange to be easy. \n",
    "\n",
    "(iii) Paraquet and Feather require re-loading of the data, which we were able to avoid by arrow exchange. We also opted for this method since it reduces time spent during serialization and de-serialization alongside not creating unnecessary copies of the data. \n",
    "\n",
    "(iv) A quick search online also showed us that arrow exchange also allows access to dplyr functions. \n",
    "\n",
    "(v) While not a drastic decision-making factor, the files in arrow exchange were stored in a format that was slightly less memory-intensive compared to the other methods. One can imagine how this could be of huge savings if we are working with big data! \n",
    "\n",
    "(vi) While Feather seemed promising, it is still in its development phase, so there may be some unintended bugs, and is not optimal for long-term storage suitability. Paraquet is mainly useful for archival storage purpose, and therefore may not be the best solution. "
   ]
  },
  {
   "cell_type": "markdown",
   "id": "aa86d354-3028-475e-adc4-35a812c43fd2",
   "metadata": {
    "tags": []
   },
   "source": [
    "#### Summary of results"
   ]
  },
  {
   "cell_type": "markdown",
   "id": "3c3da73e-90e0-4adb-897d-5a2d6546532d",
   "metadata": {},
   "source": [
    "| Team Member       | Operating System | RAM  | Processor | Is SSD | Time taken |\n",
    "|-------------------|------------------|------|-----------|--------|------------|\n",
    "| Karanpreet Kaur   | windows           | 8 GB    | Processor 11th Gen Intel(R) Core(TM) i5     |       yes    |   1.13 secs  |            |\n",
    "| Melisa Maidana    | mac              | 8 GB | M1        | yes    |     2 s       |\n",
    "| Nagraj Rao        | windows          |32 GB |AMD Ryzen 7 PRO 5850U with Radeon Graphics 1.90 GHz| yes | 1.14 secs            |\n",
    "| Ting Zhe (TZ) Yan | mac              | 8 GB | M1        | yes    |       1.85s     |"
   ]
  },
  {
   "cell_type": "markdown",
   "id": "2863ce52-eb1e-4664-88d4-00f5368e55dd",
   "metadata": {},
   "source": [
    "Comparing run times on different machines of our team members for performing simple EDA in R reveals some interesting observations:\n",
    "\n",
    "(i) Here, there is some evidence on time efficiency of PC's relative to Mac's, by nearly 70%. Both MAC's took significantly higher time. \n",
    "\n",
    "(ii) Between the two Windows machines, the increase in RAM and difference in processor does not seem to play a role. It has to be noted that this number is likely confounded by the number of parallel applications running on the two machines, which cannot be controlled for. "
   ]
  },
  {
   "cell_type": "markdown",
   "id": "29cbd117-8434-4d7c-8807-82b9db8a8be6",
   "metadata": {},
   "source": [
    "#### Challenges"
   ]
  },
  {
   "cell_type": "markdown",
   "id": "fb13fd7f-bc21-4492-8a66-2b71e56546fe",
   "metadata": {},
   "source": [
    "**Discuss any challenges or difficulties you faced when dealing with this large amount of data on your laptops. Briefly explain your approach to overcome the challenges or reasons why you could not overcome them.**\n"
   ]
  },
  {
   "cell_type": "markdown",
   "id": "767a0cbe-23b8-4b07-b640-f6339c3aa33b",
   "metadata": {},
   "source": [
    "(i) Since our team has two Mac and PC users, we initially had some challenge getting the code pertaining with forward versus double backslash. It also took a few iterations of the RegEx to work due to slight differences in the OS's implementation. To resolve this problem, we used os.path.join to manage the file path and enhanced the regular expression to consider both operating systems.\n",
    "\n",
    "(ii) Collaboration on Jupyter notebook required some extra coordination. To overcome this issue, we broke down the milestone in tasks that were executed sequentially by the different team members and strove for effective communication regarding progress of tasks, challenges faced and assistance required."
   ]
  },
  {
   "cell_type": "code",
   "execution_count": null,
   "id": "657da325-bed0-4150-a545-ddf3a57867a6",
   "metadata": {},
   "outputs": [],
   "source": []
  }
 ],
 "metadata": {
  "kernelspec": {
   "display_name": "Python [conda env:525_2022]",
   "language": "python",
   "name": "conda-env-525_2022-py"
  },
  "language_info": {
   "codemirror_mode": {
    "name": "ipython",
    "version": 3
   },
   "file_extension": ".py",
   "mimetype": "text/x-python",
   "name": "python",
   "nbconvert_exporter": "python",
   "pygments_lexer": "ipython3",
   "version": "3.8.6"
  }
 },
 "nbformat": 4,
 "nbformat_minor": 5
}
