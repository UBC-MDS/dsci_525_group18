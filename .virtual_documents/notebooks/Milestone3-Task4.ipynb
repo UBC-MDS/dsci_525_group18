from pyspark.ml import Pipeline
from pyspark.context import SparkContext
from pyspark.sql.session import SparkSession
from pyspark.ml.feature import VectorAssembler, UnivariateFeatureSelector
from pyspark.ml.evaluation import RegressionEvaluator
from pyspark.ml.regression import RandomForestRegressor as sparkRFR
from pyspark.ml.tuning import CrossValidator, ParamGridBuilder
import pandas as pd


## Depending on the permissions that you provided to your bucket you might need to provide your aws credentials
## to read from the bucket, if so provide with your credentials and pass as storage_options=aws_credentials
# aws_credentials = {"key": "","secret": "","token":""}
## here 100 data points for testing the code
pandas_df = pd.read_csv("s3://mdsfinal/output/ml_data_SYD.csv", index_col=0, parse_dates=True).iloc[:100].dropna()
# pandas_df = pd.read_csv("s3://xxxx/output/ml_data_SYD.csv", index_col=0, parse_dates=True).dropna()
feature_cols = list(pandas_df.drop(columns="Observed").columns)


# Load dataframe and coerce features into a single column called "Features"
# This is a requirement of MLlib
# Here we are converting your pandas dataframe to a spark dataframe, 
# Here "spark" is a spark session I will discuss this in our Wed class. 
# It is automatically created for you in this notebook.
# read more  here https://blog.knoldus.com/spark-createdataframe-vs-todf/
training = spark.createDataFrame(pandas_df)
assembler = VectorAssembler(inputCols=feature_cols, outputCol="Features")
training = assembler.transform(training).select("Features", "Observed")


##Once you finish testing the model on 100 data points, then load entire dataset and run , this could take ~15 min.
## write code here.
rf = RandomForestRegressor(labelCol="Observed", featuresCol="Features")

rfparamGrid = (ParamGridBuilder()
               .addGrid(rf.maxDepth, [5, 10])
               .addGrid(rf.numTrees, [10, 50, 100])
               .addGrid(rf.bootstrap, [False, True])
             .build())

rfevaluator = RegressionEvaluator(predictionCol="prediction", labelCol="Observed", metricName="rmse")

cvModel = CrossValidator(estimator = rf,
                         estimatorParamMaps = rfparamGrid,
                         evaluator = rfevaluator,
                         numFolds = 5)


# Print run info
print("\nBest model")
print("==========")
print(f"\nCV Score: {min(cvModel.avgMetrics):.2f}")
print(f"numTrees: {cvModel.bestModel.getNumTrees}")
print(f"numTrees: {cvModel.bestModel.getMaxDepth()}")
print(f"numTrees: {cvModel.bestModel.getBootstrap()}")
